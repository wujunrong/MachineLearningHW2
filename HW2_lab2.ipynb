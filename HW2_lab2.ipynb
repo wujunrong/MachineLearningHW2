{
 "cells": [
  {
   "cell_type": "code",
   "execution_count": 1,
   "metadata": {},
   "outputs": [
    {
     "name": "stderr",
     "output_type": "stream",
     "text": [
      "Using TensorFlow backend.\n",
      "D:\\Anaconda3\\envs\\Keras\\lib\\site-packages\\tensorflow\\python\\framework\\dtypes.py:519: FutureWarning: Passing (type, 1) or '1type' as a synonym of type is deprecated; in a future version of numpy, it will be understood as (type, (1,)) / '(1,)type'.\n",
      "  _np_qint8 = np.dtype([(\"qint8\", np.int8, 1)])\n",
      "D:\\Anaconda3\\envs\\Keras\\lib\\site-packages\\tensorflow\\python\\framework\\dtypes.py:520: FutureWarning: Passing (type, 1) or '1type' as a synonym of type is deprecated; in a future version of numpy, it will be understood as (type, (1,)) / '(1,)type'.\n",
      "  _np_quint8 = np.dtype([(\"quint8\", np.uint8, 1)])\n",
      "D:\\Anaconda3\\envs\\Keras\\lib\\site-packages\\tensorflow\\python\\framework\\dtypes.py:521: FutureWarning: Passing (type, 1) or '1type' as a synonym of type is deprecated; in a future version of numpy, it will be understood as (type, (1,)) / '(1,)type'.\n",
      "  _np_qint16 = np.dtype([(\"qint16\", np.int16, 1)])\n",
      "D:\\Anaconda3\\envs\\Keras\\lib\\site-packages\\tensorflow\\python\\framework\\dtypes.py:522: FutureWarning: Passing (type, 1) or '1type' as a synonym of type is deprecated; in a future version of numpy, it will be understood as (type, (1,)) / '(1,)type'.\n",
      "  _np_quint16 = np.dtype([(\"quint16\", np.uint16, 1)])\n",
      "D:\\Anaconda3\\envs\\Keras\\lib\\site-packages\\tensorflow\\python\\framework\\dtypes.py:523: FutureWarning: Passing (type, 1) or '1type' as a synonym of type is deprecated; in a future version of numpy, it will be understood as (type, (1,)) / '(1,)type'.\n",
      "  _np_qint32 = np.dtype([(\"qint32\", np.int32, 1)])\n",
      "D:\\Anaconda3\\envs\\Keras\\lib\\site-packages\\tensorflow\\python\\framework\\dtypes.py:528: FutureWarning: Passing (type, 1) or '1type' as a synonym of type is deprecated; in a future version of numpy, it will be understood as (type, (1,)) / '(1,)type'.\n",
      "  np_resource = np.dtype([(\"resource\", np.ubyte, 1)])\n"
     ]
    }
   ],
   "source": [
    "import os\n",
    "import sys\n",
    "import cv2\n",
    "import csv\n",
    "from sklearn.model_selection import train_test_split\n",
    "from keras.models import Sequential, Model, load_model\n",
    "from keras.layers import *\n",
    "from keras.callbacks import *\n",
    "from keras.utils import np_utils\n",
    "#from keras.preprocessing.image import ImageDataGenerator\n",
    "from keras.preprocessing.image import ImageDataGenerator\n",
    "import numpy as np\n",
    "from sklearn.preprocessing import *\n",
    "from keras.optimizers import Adam,SGD,RMSprop\n",
    "from keras.applications.vgg16 import VGG16\n",
    "import matplotlib.pyplot as plt"
   ]
  },
  {
   "cell_type": "code",
   "execution_count": 2,
   "metadata": {},
   "outputs": [],
   "source": [
    "def read_images_labels(path, i):\n",
    "    for files in os.listdir(path):\n",
    "        abs_path = os.path.abspath(os.path.join(path, files))\n",
    "        if os.path.isdir(abs_path):\n",
    "            i += 1\n",
    "            temp = os.path.split(abs_path)[-1]\n",
    "            listdir.append(temp)\n",
    "            read_images_labels(abs_path, i)\n",
    "            amount = int(len(os.listdir(path)))\n",
    "            print(amount)\n",
    "            sys.stdout.write('\\r' + '>' * i + '' * (amount - i) + '[%s%%]' % (i * 100 / amount) + temp)\n",
    "        else:\n",
    "            if files.endswith('.jpg'):#endswith() 方法用于判断字符串是否以指定后缀结尾\n",
    "                image = cv2.resize(cv2.imread(abs_path), (64, 64))\n",
    "                images.append(image)\n",
    "                labels.append(i-1)\n",
    "    return images, labels, listdir"
   ]
  },
  {
   "cell_type": "code",
   "execution_count": 3,
   "metadata": {},
   "outputs": [],
   "source": [
    "images = []\n",
    "labels = []\n",
    "listdir = []"
   ]
  },
  {
   "cell_type": "code",
   "execution_count": 4,
   "metadata": {},
   "outputs": [],
   "source": [
    "def read_main(path):\n",
    "    images, labels, listdir = read_images_labels(path, i=0)\n",
    "    images = np.array(images, dtype=np.float32)/255\n",
    "    labels = np_utils.to_categorical(labels, num_classes=20)\n",
    "    np.savetxt('listdir.txt', listdir, delimiter='', fmt='%s')\n",
    "    return images, labels"
   ]
  },
  {
   "cell_type": "code",
   "execution_count": 5,
   "metadata": {},
   "outputs": [
    {
     "name": "stdout",
     "output_type": "stream",
     "text": [
      "20\n",
      ">[5.0%]abraham_grampa_simpson20\n",
      ">>[10.0%]apu_nahasapeemapetilon20\n",
      ">>>[15.0%]bart_simpson20\n",
      ">>>>[20.0%]charles_montgomery_burns20\n",
      ">>>>>[25.0%]chief_wiggum20\n",
      ">>>>>>[30.0%]comic_book_guy20\n",
      ">>>>>>>[35.0%]edna_krabappel20\n",
      ">>>>>>>>[40.0%]homer_simpson20\n",
      ">>>>>>>>>[45.0%]kent_brockman20\n",
      ">>>>>>>>>>[50.0%]krusty_the_clown20\n",
      ">>>>>>>>>>>[55.0%]lenny_leonard20\n",
      ">>>>>>>>>>>>[60.0%]lisa_simpson20\n",
      ">>>>>>>>>>>>>[65.0%]marge_simpson20\n",
      ">>>>>>>>>>>>>>[70.0%]mayor_quimby20\n",
      ">>>>>>>>>>>>>>>[75.0%]milhouse_van_houten20\n",
      ">>>>>>>>>>>>>>>>[80.0%]moe_szyslak20\n",
      ">>>>>>>>>>>>>>>>>[85.0%]ned_flanders20\n",
      ">>>>>>>>>>>>>>>>>>[90.0%]nelson_muntz20\n",
      ">>>>>>>>>>>>>>>>>>>[95.0%]principal_skinner20\n",
      ">>>>>>>>>>>>>>>>>>>>[100.0%]sideshow_bob(17593, 64, 64, 3)\n",
      "(17593, 20)\n",
      "(1955, 64, 64, 3)\n",
      "(1955, 20)\n"
     ]
    }
   ],
   "source": [
    "images, labels=read_main('train/characters-20')\n",
    "X_train, X_test, y_train, y_test = train_test_split(images, labels, test_size=0.1)\n",
    "print(X_train.shape)\n",
    "print(y_train.shape)\n",
    "print(X_test.shape)\n",
    "print(y_test.shape)"
   ]
  },
  {
   "cell_type": "code",
   "execution_count": 6,
   "metadata": {},
   "outputs": [
    {
     "data": {
      "text/plain": [
       "\"\\nbase_model=VGG16(weights='imagenet', include_top=False, input_shape=X_train.shape[1:])\\nadd_model=Sequential()\\nadd_model.add(Flatten(input_shape=base_model.output_shape[1:]))\\nadd_model.add(Dense(256,activation='relu'))\\nadd_model.add(Dense(20,activation='sigmoid'))\\nmodel=Model(inputs=base_model.input, outputs=add_model(base_model.output))\\n\\nsgd=SGD(lr=0.008, momentum=0.9, decay=1e-6, nesterov=True)\\nmodel.compile(loss='categorical_crossentropy',\\n              optimizer='adam',\\n              metrics=['accuracy'])\\n\""
      ]
     },
     "execution_count": 6,
     "metadata": {},
     "output_type": "execute_result"
    }
   ],
   "source": [
    "'''\n",
    "base_model=VGG16(weights='imagenet', include_top=False, input_shape=X_train.shape[1:])\n",
    "add_model=Sequential()\n",
    "add_model.add(Flatten(input_shape=base_model.output_shape[1:]))\n",
    "add_model.add(Dense(256,activation='relu'))\n",
    "add_model.add(Dense(20,activation='sigmoid'))\n",
    "model=Model(inputs=base_model.input, outputs=add_model(base_model.output))\n",
    "\n",
    "sgd=SGD(lr=0.008, momentum=0.9, decay=1e-6, nesterov=True)\n",
    "model.compile(loss='categorical_crossentropy',\n",
    "              optimizer='adam',\n",
    "              metrics=['accuracy'])\n",
    "'''"
   ]
  },
  {
   "cell_type": "code",
   "execution_count": 7,
   "metadata": {},
   "outputs": [
    {
     "name": "stdout",
     "output_type": "stream",
     "text": [
      "_________________________________________________________________\n",
      "Layer (type)                 Output Shape              Param #   \n",
      "=================================================================\n",
      "conv2d_1 (Conv2D)            (None, 64, 64, 64)        1792      \n",
      "_________________________________________________________________\n",
      "max_pooling2d_1 (MaxPooling2 (None, 32, 32, 64)        0         \n",
      "_________________________________________________________________\n",
      "dropout_1 (Dropout)          (None, 32, 32, 64)        0         \n",
      "_________________________________________________________________\n",
      "conv2d_2 (Conv2D)            (None, 32, 32, 128)       73856     \n",
      "_________________________________________________________________\n",
      "conv2d_3 (Conv2D)            (None, 32, 32, 128)       147584    \n",
      "_________________________________________________________________\n",
      "max_pooling2d_2 (MaxPooling2 (None, 16, 16, 128)       0         \n",
      "_________________________________________________________________\n",
      "dropout_2 (Dropout)          (None, 16, 16, 128)       0         \n",
      "_________________________________________________________________\n",
      "conv2d_4 (Conv2D)            (None, 16, 16, 256)       295168    \n",
      "_________________________________________________________________\n",
      "conv2d_5 (Conv2D)            (None, 16, 16, 256)       590080    \n",
      "_________________________________________________________________\n",
      "conv2d_6 (Conv2D)            (None, 16, 16, 256)       590080    \n",
      "_________________________________________________________________\n",
      "max_pooling2d_3 (MaxPooling2 (None, 8, 8, 256)         0         \n",
      "_________________________________________________________________\n",
      "dropout_3 (Dropout)          (None, 8, 8, 256)         0         \n",
      "_________________________________________________________________\n",
      "flatten_1 (Flatten)          (None, 16384)             0         \n",
      "_________________________________________________________________\n",
      "dense_1 (Dense)              (None, 512)               8389120   \n",
      "_________________________________________________________________\n",
      "dropout_4 (Dropout)          (None, 512)               0         \n",
      "_________________________________________________________________\n",
      "dense_2 (Dense)              (None, 20)                10260     \n",
      "=================================================================\n",
      "Total params: 10,097,940\n",
      "Trainable params: 10,097,940\n",
      "Non-trainable params: 0\n",
      "_________________________________________________________________\n"
     ]
    }
   ],
   "source": [
    "model = Sequential()\n",
    "model.add(Conv2D(64, kernel_size=3 , padding='same',activation='relu', input_shape=X_train.shape[1:]))\n",
    "model.add(MaxPooling2D(pool_size=(2, 2)))\n",
    "model.add(Dropout(0.5))\n",
    "\n",
    "model.add(Conv2D(128, kernel_size=3, padding='same',activation='relu'))\n",
    "model.add(Conv2D(128, kernel_size=3, padding='same',activation='relu'))\n",
    "model.add(MaxPooling2D(pool_size=(2, 2)))\n",
    "model.add(Dropout(0.5))\n",
    "\n",
    "model.add(Conv2D(256, kernel_size=3, padding='same',activation='relu'))\n",
    "model.add(Conv2D(256, kernel_size=3, padding='same',activation='relu'))\n",
    "model.add(Conv2D(256, kernel_size=3, padding='same',activation='relu'))\n",
    "model.add(MaxPooling2D(pool_size=(2, 2)))\n",
    "model.add(Dropout(0.5))\n",
    "\n",
    "model.add(Flatten())\n",
    "model.add(Dense(512,activation='relu'))\n",
    "model.add(Dropout(0.5))\n",
    "model.add(Dense(20,activation='softmax'))\n",
    "model.summary()\n",
    "\n",
    "sgd = SGD(lr=0.01, momentum=0.9, decay=1e-6, nesterov=True)\n",
    "model.compile(loss='categorical_crossentropy', optimizer='adam',metrics=['accuracy'])"
   ]
  },
  {
   "cell_type": "code",
   "execution_count": 8,
   "metadata": {},
   "outputs": [],
   "source": [
    "datagen = ImageDataGenerator(zoom_range=0.1,\n",
    "                             width_shift_range=0.05,\n",
    "                             height_shift_range=0.05,\n",
    "                             horizontal_flip=True)\n",
    "datagen.fit(X_train)"
   ]
  },
  {
   "cell_type": "code",
   "execution_count": 9,
   "metadata": {},
   "outputs": [],
   "source": [
    "#epochs = 600\n",
    "epochs = 65\n",
    "#batch_size = 256\n",
    "batch_size = 128\n",
    "file_name = str(epochs) + '_debug' + str(batch_size)"
   ]
  },
  {
   "cell_type": "code",
   "execution_count": 10,
   "metadata": {},
   "outputs": [
    {
     "name": "stdout",
     "output_type": "stream",
     "text": [
      "Epoch 1/65\n",
      "150/150 [==============================] - 38s 254ms/step - loss: 2.7374 - acc: 0.1547 - val_loss: 2.3486 - val_acc: 0.2762\n",
      "Epoch 2/65\n",
      "150/150 [==============================] - 33s 223ms/step - loss: 2.1664 - acc: 0.3408 - val_loss: 1.7174 - val_acc: 0.4936\n",
      "Epoch 3/65\n",
      "150/150 [==============================] - 33s 223ms/step - loss: 1.5709 - acc: 0.5248 - val_loss: 1.2075 - val_acc: 0.6471\n",
      "Epoch 4/65\n",
      "150/150 [==============================] - 33s 222ms/step - loss: 1.1722 - acc: 0.6483 - val_loss: 0.8624 - val_acc: 0.7412\n",
      "Epoch 5/65\n",
      "150/150 [==============================] - 34s 226ms/step - loss: 0.9451 - acc: 0.7161 - val_loss: 0.6906 - val_acc: 0.8061\n",
      "Epoch 6/65\n",
      "150/150 [==============================] - 34s 224ms/step - loss: 0.7707 - acc: 0.7667 - val_loss: 0.6710 - val_acc: 0.8153\n",
      "Epoch 7/65\n",
      "150/150 [==============================] - 33s 223ms/step - loss: 0.6740 - acc: 0.7971 - val_loss: 0.5207 - val_acc: 0.8501\n",
      "Epoch 8/65\n",
      "150/150 [==============================] - 33s 223ms/step - loss: 0.5913 - acc: 0.8216 - val_loss: 0.4544 - val_acc: 0.8808\n",
      "Epoch 9/65\n",
      "150/150 [==============================] - 33s 223ms/step - loss: 0.5264 - acc: 0.8453 - val_loss: 0.4505 - val_acc: 0.8767\n",
      "Epoch 10/65\n",
      "150/150 [==============================] - 33s 223ms/step - loss: 0.4931 - acc: 0.8546 - val_loss: 0.5247 - val_acc: 0.8670\n",
      "Epoch 11/65\n",
      "150/150 [==============================] - 33s 223ms/step - loss: 0.4444 - acc: 0.8678 - val_loss: 0.4421 - val_acc: 0.8885\n",
      "Epoch 12/65\n",
      "150/150 [==============================] - 33s 223ms/step - loss: 0.4333 - acc: 0.8727 - val_loss: 0.3820 - val_acc: 0.9013\n",
      "Epoch 13/65\n",
      "150/150 [==============================] - 33s 223ms/step - loss: 0.4102 - acc: 0.8771 - val_loss: 0.3998 - val_acc: 0.8910\n",
      "Epoch 14/65\n",
      "150/150 [==============================] - 34s 225ms/step - loss: 0.3920 - acc: 0.8854 - val_loss: 0.3208 - val_acc: 0.9161\n",
      "Epoch 15/65\n",
      "150/150 [==============================] - 34s 224ms/step - loss: 0.3551 - acc: 0.8943 - val_loss: 0.4302 - val_acc: 0.8931\n",
      "Epoch 16/65\n",
      "150/150 [==============================] - 34s 225ms/step - loss: 0.3598 - acc: 0.8961 - val_loss: 0.3680 - val_acc: 0.9059\n",
      "Epoch 17/65\n",
      "150/150 [==============================] - 34s 224ms/step - loss: 0.3300 - acc: 0.9009 - val_loss: 0.3119 - val_acc: 0.9156\n",
      "Epoch 18/65\n",
      "150/150 [==============================] - 33s 222ms/step - loss: 0.3115 - acc: 0.9061 - val_loss: 0.3560 - val_acc: 0.9228\n",
      "Epoch 19/65\n",
      "150/150 [==============================] - 33s 223ms/step - loss: 0.3018 - acc: 0.9115 - val_loss: 0.3920 - val_acc: 0.9105\n",
      "Epoch 20/65\n",
      "150/150 [==============================] - 34s 224ms/step - loss: 0.2937 - acc: 0.9133 - val_loss: 0.3112 - val_acc: 0.9279\n",
      "Epoch 21/65\n",
      "150/150 [==============================] - 34s 225ms/step - loss: 0.2806 - acc: 0.9163 - val_loss: 0.3070 - val_acc: 0.9284\n",
      "Epoch 22/65\n",
      "150/150 [==============================] - 33s 223ms/step - loss: 0.2752 - acc: 0.9184 - val_loss: 0.3101 - val_acc: 0.9304\n",
      "Epoch 23/65\n",
      "150/150 [==============================] - 33s 223ms/step - loss: 0.2687 - acc: 0.9186 - val_loss: 0.3545 - val_acc: 0.9243\n",
      "Epoch 24/65\n",
      "150/150 [==============================] - 33s 223ms/step - loss: 0.2517 - acc: 0.9267 - val_loss: 0.3102 - val_acc: 0.9304\n",
      "Epoch 25/65\n",
      "150/150 [==============================] - 33s 223ms/step - loss: 0.2513 - acc: 0.9268 - val_loss: 0.3021 - val_acc: 0.9248\n",
      "Epoch 26/65\n",
      "150/150 [==============================] - 33s 223ms/step - loss: 0.2330 - acc: 0.9308 - val_loss: 0.2814 - val_acc: 0.9335\n",
      "Epoch 27/65\n",
      "150/150 [==============================] - 34s 227ms/step - loss: 0.2305 - acc: 0.9321 - val_loss: 0.3250 - val_acc: 0.9299\n",
      "Epoch 28/65\n",
      "150/150 [==============================] - 34s 224ms/step - loss: 0.2307 - acc: 0.9306 - val_loss: 0.2962 - val_acc: 0.9279\n",
      "Epoch 29/65\n",
      "150/150 [==============================] - 33s 222ms/step - loss: 0.2286 - acc: 0.9329 - val_loss: 0.2744 - val_acc: 0.9386\n",
      "Epoch 30/65\n",
      "150/150 [==============================] - 33s 223ms/step - loss: 0.2188 - acc: 0.9336 - val_loss: 0.2877 - val_acc: 0.9427\n",
      "Epoch 31/65\n",
      "150/150 [==============================] - 33s 223ms/step - loss: 0.2321 - acc: 0.9318 - val_loss: 0.3182 - val_acc: 0.9228\n",
      "Epoch 32/65\n",
      "150/150 [==============================] - 34s 225ms/step - loss: 0.2032 - acc: 0.9392 - val_loss: 0.2800 - val_acc: 0.9371\n",
      "Epoch 33/65\n",
      "150/150 [==============================] - 34s 225ms/step - loss: 0.2107 - acc: 0.9385 - val_loss: 0.2635 - val_acc: 0.9366\n",
      "Epoch 34/65\n",
      "150/150 [==============================] - 34s 226ms/step - loss: 0.2057 - acc: 0.9388 - val_loss: 0.2821 - val_acc: 0.9361\n",
      "Epoch 35/65\n",
      "150/150 [==============================] - 34s 225ms/step - loss: 0.2003 - acc: 0.9420 - val_loss: 0.2749 - val_acc: 0.9325\n",
      "Epoch 36/65\n",
      "150/150 [==============================] - 34s 226ms/step - loss: 0.2040 - acc: 0.9400 - val_loss: 0.2408 - val_acc: 0.9442\n",
      "Epoch 37/65\n",
      "150/150 [==============================] - 34s 226ms/step - loss: 0.1826 - acc: 0.9470 - val_loss: 0.2744 - val_acc: 0.9407\n",
      "Epoch 38/65\n",
      "150/150 [==============================] - 34s 224ms/step - loss: 0.1876 - acc: 0.9447 - val_loss: 0.2937 - val_acc: 0.9335\n",
      "Epoch 39/65\n",
      "150/150 [==============================] - 34s 225ms/step - loss: 0.1947 - acc: 0.9433 - val_loss: 0.2642 - val_acc: 0.9402\n",
      "Epoch 40/65\n",
      "150/150 [==============================] - 33s 223ms/step - loss: 0.1902 - acc: 0.9425 - val_loss: 0.2997 - val_acc: 0.9315\n",
      "Epoch 41/65\n",
      "150/150 [==============================] - 33s 222ms/step - loss: 0.1952 - acc: 0.9435 - val_loss: 0.2654 - val_acc: 0.9381\n",
      "Epoch 42/65\n",
      "150/150 [==============================] - 33s 223ms/step - loss: 0.1871 - acc: 0.9450 - val_loss: 0.2924 - val_acc: 0.9391\n",
      "Epoch 43/65\n",
      "150/150 [==============================] - 34s 227ms/step - loss: 0.1739 - acc: 0.9500 - val_loss: 0.2985 - val_acc: 0.9396\n",
      "Epoch 44/65\n",
      "150/150 [==============================] - 34s 228ms/step - loss: 0.1711 - acc: 0.9508 - val_loss: 0.3305 - val_acc: 0.9294\n",
      "Epoch 45/65\n",
      "150/150 [==============================] - 34s 228ms/step - loss: 0.1859 - acc: 0.9448 - val_loss: 0.2808 - val_acc: 0.9340\n",
      "Epoch 46/65\n",
      "150/150 [==============================] - 34s 228ms/step - loss: 0.1760 - acc: 0.9481 - val_loss: 0.3284 - val_acc: 0.9253\n",
      "Epoch 47/65\n",
      "150/150 [==============================] - 34s 227ms/step - loss: 0.1738 - acc: 0.9479 - val_loss: 0.2823 - val_acc: 0.9391\n",
      "Epoch 48/65\n",
      "150/150 [==============================] - 34s 228ms/step - loss: 0.1617 - acc: 0.9500 - val_loss: 0.2854 - val_acc: 0.9407\n",
      "Epoch 49/65\n",
      "150/150 [==============================] - 34s 228ms/step - loss: 0.1676 - acc: 0.9513 - val_loss: 0.2931 - val_acc: 0.9381\n",
      "Epoch 50/65\n",
      "150/150 [==============================] - 34s 227ms/step - loss: 0.1767 - acc: 0.9502 - val_loss: 0.2501 - val_acc: 0.9437\n",
      "Epoch 51/65\n",
      "150/150 [==============================] - 35s 230ms/step - loss: 0.1672 - acc: 0.9497 - val_loss: 0.2845 - val_acc: 0.9325\n",
      "Epoch 52/65\n",
      "150/150 [==============================] - 34s 226ms/step - loss: 0.1649 - acc: 0.9512 - val_loss: 0.2699 - val_acc: 0.9355\n",
      "Epoch 53/65\n",
      "150/150 [==============================] - 34s 227ms/step - loss: 0.1680 - acc: 0.9519 - val_loss: 0.2639 - val_acc: 0.9422\n",
      "Epoch 54/65\n",
      "150/150 [==============================] - 37s 246ms/step - loss: 0.1554 - acc: 0.9544 - val_loss: 0.3217 - val_acc: 0.9320\n",
      "Epoch 55/65\n",
      "150/150 [==============================] - 34s 224ms/step - loss: 0.1746 - acc: 0.9493 - val_loss: 0.2786 - val_acc: 0.9402\n",
      "Epoch 56/65\n",
      "150/150 [==============================] - 34s 223ms/step - loss: 0.1629 - acc: 0.9537 - val_loss: 0.2942 - val_acc: 0.9340\n",
      "Epoch 57/65\n",
      "150/150 [==============================] - 33s 223ms/step - loss: 0.1655 - acc: 0.9518 - val_loss: 0.2612 - val_acc: 0.9432\n",
      "Epoch 58/65\n",
      "150/150 [==============================] - 33s 222ms/step - loss: 0.1556 - acc: 0.9552 - val_loss: 0.2643 - val_acc: 0.9453\n",
      "Epoch 59/65\n",
      "150/150 [==============================] - 33s 223ms/step - loss: 0.1681 - acc: 0.9515 - val_loss: 0.2876 - val_acc: 0.9361\n",
      "Epoch 60/65\n",
      "150/150 [==============================] - 38s 250ms/step - loss: 0.1551 - acc: 0.9536 - val_loss: 0.2787 - val_acc: 0.9437\n",
      "Epoch 61/65\n"
     ]
    },
    {
     "name": "stdout",
     "output_type": "stream",
     "text": [
      "150/150 [==============================] - 33s 222ms/step - loss: 0.1811 - acc: 0.9488 - val_loss: 0.2412 - val_acc: 0.9483\n",
      "Epoch 62/65\n",
      "150/150 [==============================] - 33s 223ms/step - loss: 0.1526 - acc: 0.9544 - val_loss: 0.2837 - val_acc: 0.9391\n",
      "Epoch 63/65\n",
      "150/150 [==============================] - 33s 222ms/step - loss: 0.1564 - acc: 0.9557 - val_loss: 0.2577 - val_acc: 0.9381\n",
      "Epoch 64/65\n",
      "150/150 [==============================] - 33s 223ms/step - loss: 0.1614 - acc: 0.9545 - val_loss: 0.2932 - val_acc: 0.9391\n",
      "Epoch 65/65\n",
      "150/150 [==============================] - 34s 224ms/step - loss: 0.1441 - acc: 0.9581 - val_loss: 0.2861 - val_acc: 0.9432\n"
     ]
    }
   ],
   "source": [
    "# cbks = [\n",
    "#     EarlyStopping(monitor='val_loss', patience=50),\n",
    "#     TensorBoard(log_dir='logs/' + file_name)\n",
    "# ]\n",
    "# model.fit(X_train, y_train, epochs=epochs, batch_size=batch_size,\n",
    "#           shuffle=True, verbose=1,\n",
    "#           validation_data=(X_test, y_test), callbacks=[cbks])\n",
    "#history = model.fit_generator(datagen.flow(X_train, y_train, batch_size=batch_size), steps_per_epoch=epochs, epochs=epochs,\n",
    "         #validation_data=(X_test, y_test), verbose=1)\n",
    "history = model.fit_generator(datagen.flow(X_train, y_train, batch_size=batch_size), steps_per_epoch=150, epochs=epochs,\n",
    "         validation_data=(X_test, y_test), verbose=1)"
   ]
  },
  {
   "cell_type": "code",
   "execution_count": 11,
   "metadata": {},
   "outputs": [
    {
     "data": {
      "image/png": "[encoded data removed]",
      "text/plain": [
       "<Figure size 432x288 with 1 Axes>"
      ]
     },
     "metadata": {
      "needs_background": "light"
     },
     "output_type": "display_data"
    }
   ],
   "source": [
    "plt.plot(history.history['loss'])\n",
    "plt.plot(history.history['val_loss'])\n",
    "plt.xlabel(\"Epochs\")\n",
    "plt.ylabel(\"Loss\")\n",
    "plt.title('Epochs&Loss')\n",
    "plt.legend(['train', 'validation'], loc = 'upper right')\n",
    "plt.show()"
   ]
  },
  {
   "cell_type": "code",
   "execution_count": 12,
   "metadata": {},
   "outputs": [
    {
     "name": "stdout",
     "output_type": "stream",
     "text": [
      "[0.2860685829576925, 0.9432225063938618]\n"
     ]
    }
   ],
   "source": [
    "#model.save('h5/' + file_name + 'debug.h5')\n",
    "model.save(file_name)\n",
    "\n",
    "score = model.evaluate(X_test, y_test, verbose=0)\n",
    "\n",
    "print (score)"
   ]
  },
  {
   "cell_type": "code",
   "execution_count": 13,
   "metadata": {},
   "outputs": [],
   "source": [
    "def read_image(path):\n",
    "    images = []\n",
    "    for i in range(990):\n",
    "        image = cv2.resize(cv2.imread(path + str(i + 1) + '.jpg'), (64, 64))\n",
    "        images.append(image)\n",
    "    images = np.array(images, dtype=np.float32) / 255\n",
    "    return images\n",
    "\n",
    "\n",
    "images = read_image('test/test/')\n"
   ]
  },
  {
   "cell_type": "code",
   "execution_count": 14,
   "metadata": {},
   "outputs": [],
   "source": [
    "def transform(listdir, label, size):\n",
    "    label_str = []\n",
    "    for i in range(size):\n",
    "        temp = listdir[label[i]]\n",
    "        label_str.append(temp)\n",
    "    return label_str"
   ]
  },
  {
   "cell_type": "code",
   "execution_count": 15,
   "metadata": {},
   "outputs": [
    {
     "name": "stdout",
     "output_type": "stream",
     "text": [
      "(990, 64, 64, 3)\n",
      "990/990 [==============================] - 1s 918us/step\n",
      "[17  8 16 16  9 11 14 15 12 10 14 13 18 11  7 14 13  9 10  8  9  2  9  7\n",
      "  2  0 13 11 10 14 10  7  1  7  0  7 12  3  3 14  1  3  4 16  2  6 12  1\n",
      " 18 19  4  7 10  6 11 13  2  9 17 10 15  5 15 10  8 16 10  4  6 15  9  3\n",
      "  6  5 18 15 11 14  4 10  2 19  6 13  7 11  9  9 19  2 17  4 19 18 18 18\n",
      "  8  8  9  1  9 16  2 15  5 19 16  9 16 12 13 18  3 18 14 10  3  1 14 16\n",
      "  1  1  4  4 11 19 12  4 11  1 19 15 14  6  7  2  3  8  2 12  7 18  3  1\n",
      "  3  1 11 10 18  8 14  0  4  1 13  1 10 15  7 13  7  1  1  2  5 18 12 11\n",
      " 19  8 19  1  2  1 19  4 19 18  1  4 10  3 18  1  5  8 18  1 11  4 16 14\n",
      " 12  9 14 17  1 16 15  7 19 18  0  6 14  4  4 17  7 10 18 18 16  1  3  1\n",
      " 13  0  5 12  6  4 12 16 14  7 11  7 15  2  2  1 14 12  0 16  6 10  5  5\n",
      " 13  1  6 11  1 14 12  6  3  8 15  7  6  0  3  1 18 19  6  9 11  8  2  6\n",
      "  5  7  0  4 14 10  7  0  1  1  1  5  2 15 19  2 19  1  6 13  1 17  9  0\n",
      " 17  3 12 17 18  8  9  3 12 13  7 15  6 16 17 13  6  9  6 11  9 17  5  0\n",
      " 12 12 16 16  1 18 15  5  4  3  7  6 17  6  4 11  2  8 13  2  0  4  8  6\n",
      "  8  9 13  8  3  3  7  2 17  8 17  5  1 11 16  4 19 18 10  2  0 11 11 13\n",
      " 19  9 14  5 11 12  9 17  0 11  6  4 11  1  7 14 19  0 10 18  0 16  4 12\n",
      "  6 15 11 15 16  0  3 16  2  2 10  7 12 12  1 12  3  2 17  0  7  3 13 12\n",
      " 12  7  5 16  4 15 14  5 19 12  9  1 14  9  3 16 17 17 14 19 10 19 17 15\n",
      " 17 14  5 17 19 10 16 13  7 18 19 13 11 12 17  0 15 13 14 18 17 18 11 19\n",
      "  5 10  3 16  5  5 10  6 13  5 13  1 12 14  4 17  7 18  1  0  5 15 19 12\n",
      " 12  5 14 10 16  9  4  0  3  1 15 16 11 17 11 13 19 17  5  8 12  0 14 14\n",
      " 16  7 13 12 11  5  9 11  2 15  7  4 12 17 13 19  2 13 18 19 11  5 18 13\n",
      " 17 18  8  7  9  3 11  4  9 18 16  4 10  1  8 11 12  2  5  4  8  5  4 10\n",
      "  9  3  0  8  7  7  0  9 11  5  7 13 16  9  5 16  4  3 11 17 16  8 15 15\n",
      " 19 13  2  5 10 13 19  9 14  5  1 14 13 15 15 17  2 10  5 10  7  7 10  6\n",
      " 10  2 14  9 17 16  0 17  0 14 18 10 19  0  9  0  5  9 15  9 16  2 18 11\n",
      " 15 19 11 18 16  5  2 15  3 14  7  7  1 17 15 17  8 16 19 16  6  7  5  0\n",
      "  1 15  3  9  6  3 13  2 17  6 11  6  4  6 15 18  2 11  8  8  0  7  4 14\n",
      "  2 14  2 19  4  0  3  7 11  9  8  1  1  9  9  0  5  2  3 13  8  9  7  8\n",
      " 17 18  8  5 12 15  8 10  6 16 19 16  9 14 15 16 15  4  7 12 11  7 13 18\n",
      "  4  6 16 16 14  8 19 11 12 14 18  8 12  7  4  8  3 12  0 15 15  6  4  9\n",
      " 17 11 16 14  6 13 11 15  3  5  1  9  3 19  6 17  3 15 13  6 19 18  5  1\n",
      " 15 18  8  3 12 12  9  3 17 17  8 15  3 13 17  8 19 18 15 18  7 13  5 14\n",
      " 18 12 12  2  8  6 13 12 18 11 13 19 10  0 17  6  2 14 17  7 16 17  7  7\n",
      " 15 15 17  4  6 10  3  3 16  0  6 14 10  8 18 11  5  5  0 10  0  8 16  0\n",
      "  2 11  7  4 12 15 11 18  6  6 14  5 14  4 12 17 18  3  2  4  4 17  2 11\n",
      "  1  4  7 13  3 13  9  8 12 12  5  5 12  8 13 10  6 15  8 10 16  2  0  0\n",
      "  9  9  8  9  8  3 10 18 13  2  4 15 14  5  8  0 10 12  3 10  0  0  4  8\n",
      " 15 11  4  1 11 12  3 18  6 18 13 13  7 19 17 14 19 16  9 11 19  9 19  0\n",
      " 19  6  4 19  0 10 18  0  8  8  7 10  2  2 16  3  2  1 15 13  0 10  9  4\n",
      " 14  7 14 10 14  8 15 15  1  1  6  3 14 10 13  2 17 12 19  2 10  4 10  2\n",
      " 17  4 13 11  5  2]\n"
     ]
    }
   ],
   "source": [
    "print(images.shape)\n",
    "\n",
    "model = load_model(file_name)\n",
    "#predict = model.predict_classes(images, verbose=1)\n",
    "predict = model.predict(images, verbose=1)\n",
    "predict=np.argmax(predict,axis=1)\n",
    "print(predict)\n",
    "listdir = np.loadtxt('listdir.txt', dtype='str')\n",
    "label_str = transform(listdir, predict, images.shape[0])\n",
    "\n",
    "#pd.DataFrame((\"id\":list(range(1,len(label_str)+1)),\"character\":label_str)) to_csv('test_score.csv', index=False, header=True)"
   ]
  },
  {
   "cell_type": "code",
   "execution_count": 16,
   "metadata": {},
   "outputs": [],
   "source": [
    "with open('test_score.csv', 'w') as f:\n",
    "    w = csv.writer(f)\n",
    "    w.writerow(['id', 'character'])\n",
    "    for i, y in enumerate(label_str, 1):\n",
    "        w.writerow([i, y])"
   ]
  }
 ],
 "metadata": {
  "kernelspec": {
   "display_name": "Python (Keras)",
   "language": "python",
   "name": "keras"
  },
  "language_info": {
   "codemirror_mode": {
    "name": "ipython",
    "version": 3
   },
   "file_extension": ".py",
   "mimetype": "text/x-python",
   "name": "python",
   "nbconvert_exporter": "python",
   "pygments_lexer": "ipython3",
   "version": "3.6.9"
  }
 },
 "nbformat": 4,
 "nbformat_minor": 2
}
